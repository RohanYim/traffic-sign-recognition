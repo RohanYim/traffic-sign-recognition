{
 "cells": [
  {
   "cell_type": "code",
   "execution_count": 1,
   "metadata": {},
   "outputs": [],
   "source": [
    "import os\n",
    "#import cv2\n",
    "import numpy as np\n",
    "import pandas as pd\n",
    "from PIL import Image\n",
    "import matplotlib.pyplot as plt\n",
    "\n",
    "from sklearn import svm\n",
    "from sklearn.metrics import accuracy_score\n",
    "from skimage import transform\n",
    "from sklearn.neighbors import NearestNeighbors\n",
    "\n",
    "from sklearn import neighbors\n",
    "\n",
    "from sklearn import datasets\n",
    "from sklearn.model_selection import train_test_split\n",
    "from sklearn.model_selection import GridSearchCV\n",
    "from sklearn.metrics import classification_report\n",
    "from sklearn.svm import SVC\n",
    "from sklearn.svm import LinearSVC \n"
   ]
  },
  {
   "cell_type": "code",
   "execution_count": 4,
   "metadata": {},
   "outputs": [
    {
     "data": {
      "text/html": [
       "<div>\n",
       "<style scoped>\n",
       "    .dataframe tbody tr th:only-of-type {\n",
       "        vertical-align: middle;\n",
       "    }\n",
       "\n",
       "    .dataframe tbody tr th {\n",
       "        vertical-align: top;\n",
       "    }\n",
       "\n",
       "    .dataframe thead th {\n",
       "        text-align: right;\n",
       "    }\n",
       "</style>\n",
       "<table border=\"1\" class=\"dataframe\">\n",
       "  <thead>\n",
       "    <tr style=\"text-align: right;\">\n",
       "      <th></th>\n",
       "      <th>image_id</th>\n",
       "      <th>split_id</th>\n",
       "      <th>shape_id</th>\n",
       "    </tr>\n",
       "  </thead>\n",
       "  <tbody>\n",
       "    <tr>\n",
       "      <th>0</th>\n",
       "      <td>00001</td>\n",
       "      <td>1</td>\n",
       "      <td>1</td>\n",
       "    </tr>\n",
       "    <tr>\n",
       "      <th>1</th>\n",
       "      <td>00002</td>\n",
       "      <td>1</td>\n",
       "      <td>1</td>\n",
       "    </tr>\n",
       "    <tr>\n",
       "      <th>2</th>\n",
       "      <td>00003</td>\n",
       "      <td>1</td>\n",
       "      <td>1</td>\n",
       "    </tr>\n",
       "    <tr>\n",
       "      <th>3</th>\n",
       "      <td>00004</td>\n",
       "      <td>1</td>\n",
       "      <td>1</td>\n",
       "    </tr>\n",
       "    <tr>\n",
       "      <th>4</th>\n",
       "      <td>00005</td>\n",
       "      <td>1</td>\n",
       "      <td>4,1</td>\n",
       "    </tr>\n",
       "  </tbody>\n",
       "</table>\n",
       "</div>"
      ],
      "text/plain": [
       "  image_id split_id shape_id\n",
       "0    00001        1        1\n",
       "1    00002        1        1\n",
       "2    00003        1        1\n",
       "3    00004        1        1\n",
       "4    00005        1      4,1"
      ]
     },
     "execution_count": 4,
     "metadata": {},
     "output_type": "execute_result"
    }
   ],
   "source": [
    "filename = \"image_labels_level_0.txt\"\n",
    "data = []\n",
    "f = open(filename, \"r\")\n",
    "data = f.readlines()\n",
    "f.close()\n",
    "data\n",
    "for i in range(len(data)):\n",
    "    data[i] = data[i].replace(\"\\t\", \" \")\n",
    "#     data[i] = data[i].replace(\"\", \" \")\n",
    "    data[i] = data[i].replace(\"\\n\", \"\")\n",
    "    data[i] = str.split(data[i],' ')\n",
    "sorted_data = [value for index, value in sorted(enumerate(data), key=lambda data:data[1])]\n",
    "cols = [\"image_id\", \"split_id\", \"shape_id\"]\n",
    "df_image_0 = pd.DataFrame(sorted_data, columns = cols)\n",
    "df_image_0.head(5)"
   ]
  },
  {
   "cell_type": "code",
   "execution_count": 5,
   "metadata": {},
   "outputs": [
    {
     "data": {
      "text/html": [
       "<div>\n",
       "<style scoped>\n",
       "    .dataframe tbody tr th:only-of-type {\n",
       "        vertical-align: middle;\n",
       "    }\n",
       "\n",
       "    .dataframe tbody tr th {\n",
       "        vertical-align: top;\n",
       "    }\n",
       "\n",
       "    .dataframe thead th {\n",
       "        text-align: right;\n",
       "    }\n",
       "</style>\n",
       "<table border=\"1\" class=\"dataframe\">\n",
       "  <thead>\n",
       "    <tr style=\"text-align: right;\">\n",
       "      <th></th>\n",
       "      <th>image_id</th>\n",
       "      <th>split_id</th>\n",
       "      <th>sign_id</th>\n",
       "    </tr>\n",
       "  </thead>\n",
       "  <tbody>\n",
       "    <tr>\n",
       "      <th>0</th>\n",
       "      <td>00001</td>\n",
       "      <td>1</td>\n",
       "      <td>18</td>\n",
       "    </tr>\n",
       "    <tr>\n",
       "      <th>1</th>\n",
       "      <td>00002</td>\n",
       "      <td>1</td>\n",
       "      <td>18</td>\n",
       "    </tr>\n",
       "    <tr>\n",
       "      <th>2</th>\n",
       "      <td>00003</td>\n",
       "      <td>1</td>\n",
       "      <td>18</td>\n",
       "    </tr>\n",
       "    <tr>\n",
       "      <th>3</th>\n",
       "      <td>00004</td>\n",
       "      <td>1</td>\n",
       "      <td>18</td>\n",
       "    </tr>\n",
       "    <tr>\n",
       "      <th>4</th>\n",
       "      <td>00005</td>\n",
       "      <td>1</td>\n",
       "      <td>30,9</td>\n",
       "    </tr>\n",
       "  </tbody>\n",
       "</table>\n",
       "</div>"
      ],
      "text/plain": [
       "  image_id split_id sign_id\n",
       "0    00001        1      18\n",
       "1    00002        1      18\n",
       "2    00003        1      18\n",
       "3    00004        1      18\n",
       "4    00005        1    30,9"
      ]
     },
     "execution_count": 5,
     "metadata": {},
     "output_type": "execute_result"
    }
   ],
   "source": [
    "filename = \"image_labels_level_1.txt\"\n",
    "data = []\n",
    "f = open(filename, \"r\")\n",
    "data = f.readlines()\n",
    "f.close()\n",
    "for i in range(len(data)):\n",
    "    data[i] = data[i].replace(\"\\t\", \" \")\n",
    "#     data[i] = data[i].replace(\",\", \" \")\n",
    "    data[i] = data[i].replace(\"\\n\", \"\")\n",
    "    data[i] = str.split(data[i],' ')\n",
    "sorted_data = [value for index, value in sorted(enumerate(data), key=lambda data:data[1])]\n",
    "cols = [\"image_id\", \"split_id\", \"sign_id\"]\n",
    "df_image_1 = pd.DataFrame(sorted_data, columns = cols)\n",
    "df_image_1.head(5)"
   ]
  },
  {
   "cell_type": "code",
   "execution_count": 6,
   "metadata": {},
   "outputs": [],
   "source": [
    "filename = \"object_labels_level_0.txt\"\n",
    "data = []\n",
    "f = open(filename, \"r\")\n",
    "data = f.readlines()\n",
    "f.close()\n",
    "for i in range(len(data)):\n",
    "    data[i] = data[i].replace(\"\\t\", \" \")\n",
    "    data[i] = data[i].replace(\",\", \" \")\n",
    "    data[i] = data[i].replace(\"\\n\", \"\")\n",
    "    data[i] = str.split(data[i],' ')\n",
    "sorted_data = [value for index, value in sorted(enumerate(data), key=lambda data:data[1])]\n",
    "cols = [\"image_id\", \"shape_id\", \"x\", \"y\", \"height\", \"width\"]\n",
    "df_object_0 = pd.DataFrame(sorted_data, columns = cols)\n",
    "# df_object_0.head(15)\n"
   ]
  },
  {
   "cell_type": "code",
   "execution_count": 7,
   "metadata": {},
   "outputs": [],
   "source": [
    "filename = \"object_labels_level_1.txt\"\n",
    "data = []\n",
    "f = open(filename, \"r\")\n",
    "data = f.readlines()\n",
    "f.close()\n",
    "for i in range(len(data)):\n",
    "    data[i] = data[i].replace(\"\\t\", \" \")\n",
    "    data[i] = data[i].replace(\",\", \" \")\n",
    "    data[i] = data[i].replace(\"\\n\", \"\")\n",
    "    data[i] = str.split(data[i],' ')\n",
    "sorted_data = [value for index, value in sorted(enumerate(data), key=lambda data:data[1])]\n",
    "cols = [\"image_id\", \"sign_id\", \"x\", \"y\", \"height\", \"width\"]\n",
    "df_object_1 = pd.DataFrame(sorted_data, columns = cols)\n",
    "# df_object_1.head(15)\n"
   ]
  },
  {
   "cell_type": "code",
   "execution_count": 8,
   "metadata": {},
   "outputs": [
    {
     "data": {
      "text/html": [
       "<div>\n",
       "<style scoped>\n",
       "    .dataframe tbody tr th:only-of-type {\n",
       "        vertical-align: middle;\n",
       "    }\n",
       "\n",
       "    .dataframe tbody tr th {\n",
       "        vertical-align: top;\n",
       "    }\n",
       "\n",
       "    .dataframe thead th {\n",
       "        text-align: right;\n",
       "    }\n",
       "</style>\n",
       "<table border=\"1\" class=\"dataframe\">\n",
       "  <thead>\n",
       "    <tr style=\"text-align: right;\">\n",
       "      <th></th>\n",
       "      <th>image_id</th>\n",
       "      <th>split_id</th>\n",
       "      <th>shape_id</th>\n",
       "      <th>sign_id</th>\n",
       "    </tr>\n",
       "  </thead>\n",
       "  <tbody>\n",
       "    <tr>\n",
       "      <th>0</th>\n",
       "      <td>00001</td>\n",
       "      <td>1</td>\n",
       "      <td>1</td>\n",
       "      <td>18</td>\n",
       "    </tr>\n",
       "    <tr>\n",
       "      <th>1</th>\n",
       "      <td>00002</td>\n",
       "      <td>1</td>\n",
       "      <td>1</td>\n",
       "      <td>18</td>\n",
       "    </tr>\n",
       "    <tr>\n",
       "      <th>2</th>\n",
       "      <td>00003</td>\n",
       "      <td>1</td>\n",
       "      <td>1</td>\n",
       "      <td>18</td>\n",
       "    </tr>\n",
       "    <tr>\n",
       "      <th>3</th>\n",
       "      <td>00004</td>\n",
       "      <td>1</td>\n",
       "      <td>1</td>\n",
       "      <td>18</td>\n",
       "    </tr>\n",
       "    <tr>\n",
       "      <th>4</th>\n",
       "      <td>00005</td>\n",
       "      <td>1</td>\n",
       "      <td>4,1</td>\n",
       "      <td>30,9</td>\n",
       "    </tr>\n",
       "    <tr>\n",
       "      <th>5</th>\n",
       "      <td>00006</td>\n",
       "      <td>1</td>\n",
       "      <td>4,1</td>\n",
       "      <td>30,9</td>\n",
       "    </tr>\n",
       "    <tr>\n",
       "      <th>6</th>\n",
       "      <td>00007</td>\n",
       "      <td>1</td>\n",
       "      <td>10,4,1</td>\n",
       "      <td>80,30,9</td>\n",
       "    </tr>\n",
       "    <tr>\n",
       "      <th>7</th>\n",
       "      <td>00008</td>\n",
       "      <td>1</td>\n",
       "      <td>10</td>\n",
       "      <td>80</td>\n",
       "    </tr>\n",
       "    <tr>\n",
       "      <th>8</th>\n",
       "      <td>00009</td>\n",
       "      <td>1</td>\n",
       "      <td>10</td>\n",
       "      <td>80</td>\n",
       "    </tr>\n",
       "    <tr>\n",
       "      <th>9</th>\n",
       "      <td>00010</td>\n",
       "      <td>1</td>\n",
       "      <td>10,4,1</td>\n",
       "      <td>80,30,9</td>\n",
       "    </tr>\n",
       "    <tr>\n",
       "      <th>10</th>\n",
       "      <td>00011</td>\n",
       "      <td>1</td>\n",
       "      <td>7</td>\n",
       "      <td>44</td>\n",
       "    </tr>\n",
       "    <tr>\n",
       "      <th>11</th>\n",
       "      <td>00012</td>\n",
       "      <td>1</td>\n",
       "      <td>7</td>\n",
       "      <td>44</td>\n",
       "    </tr>\n",
       "    <tr>\n",
       "      <th>12</th>\n",
       "      <td>00013</td>\n",
       "      <td>1</td>\n",
       "      <td>7</td>\n",
       "      <td>44</td>\n",
       "    </tr>\n",
       "    <tr>\n",
       "      <th>13</th>\n",
       "      <td>00014</td>\n",
       "      <td>1</td>\n",
       "      <td>1</td>\n",
       "      <td>3</td>\n",
       "    </tr>\n",
       "    <tr>\n",
       "      <th>14</th>\n",
       "      <td>00015</td>\n",
       "      <td>1</td>\n",
       "      <td>7</td>\n",
       "      <td>44</td>\n",
       "    </tr>\n",
       "    <tr>\n",
       "      <th>15</th>\n",
       "      <td>00016</td>\n",
       "      <td>1</td>\n",
       "      <td>1</td>\n",
       "      <td>3</td>\n",
       "    </tr>\n",
       "    <tr>\n",
       "      <th>16</th>\n",
       "      <td>00017</td>\n",
       "      <td>1</td>\n",
       "      <td>1</td>\n",
       "      <td>3</td>\n",
       "    </tr>\n",
       "    <tr>\n",
       "      <th>17</th>\n",
       "      <td>00018</td>\n",
       "      <td>1</td>\n",
       "      <td>1</td>\n",
       "      <td>3</td>\n",
       "    </tr>\n",
       "    <tr>\n",
       "      <th>18</th>\n",
       "      <td>00019</td>\n",
       "      <td>1</td>\n",
       "      <td>10</td>\n",
       "      <td>76</td>\n",
       "    </tr>\n",
       "    <tr>\n",
       "      <th>19</th>\n",
       "      <td>00020</td>\n",
       "      <td>1</td>\n",
       "      <td>10</td>\n",
       "      <td>76</td>\n",
       "    </tr>\n",
       "    <tr>\n",
       "      <th>20</th>\n",
       "      <td>00021</td>\n",
       "      <td>1</td>\n",
       "      <td>10</td>\n",
       "      <td>76</td>\n",
       "    </tr>\n",
       "    <tr>\n",
       "      <th>21</th>\n",
       "      <td>00022</td>\n",
       "      <td>1</td>\n",
       "      <td>10</td>\n",
       "      <td>76</td>\n",
       "    </tr>\n",
       "    <tr>\n",
       "      <th>22</th>\n",
       "      <td>00023</td>\n",
       "      <td>1</td>\n",
       "      <td>10</td>\n",
       "      <td>59</td>\n",
       "    </tr>\n",
       "    <tr>\n",
       "      <th>23</th>\n",
       "      <td>00024</td>\n",
       "      <td>1</td>\n",
       "      <td>10</td>\n",
       "      <td>59</td>\n",
       "    </tr>\n",
       "    <tr>\n",
       "      <th>24</th>\n",
       "      <td>00025</td>\n",
       "      <td>1</td>\n",
       "      <td>10</td>\n",
       "      <td>59</td>\n",
       "    </tr>\n",
       "  </tbody>\n",
       "</table>\n",
       "</div>"
      ],
      "text/plain": [
       "   image_id split_id shape_id  sign_id\n",
       "0     00001        1        1       18\n",
       "1     00002        1        1       18\n",
       "2     00003        1        1       18\n",
       "3     00004        1        1       18\n",
       "4     00005        1      4,1     30,9\n",
       "5     00006        1      4,1     30,9\n",
       "6     00007        1   10,4,1  80,30,9\n",
       "7     00008        1       10       80\n",
       "8     00009        1       10       80\n",
       "9     00010        1   10,4,1  80,30,9\n",
       "10    00011        1        7       44\n",
       "11    00012        1        7       44\n",
       "12    00013        1        7       44\n",
       "13    00014        1        1        3\n",
       "14    00015        1        7       44\n",
       "15    00016        1        1        3\n",
       "16    00017        1        1        3\n",
       "17    00018        1        1        3\n",
       "18    00019        1       10       76\n",
       "19    00020        1       10       76\n",
       "20    00021        1       10       76\n",
       "21    00022        1       10       76\n",
       "22    00023        1       10       59\n",
       "23    00024        1       10       59\n",
       "24    00025        1       10       59"
      ]
     },
     "execution_count": 8,
     "metadata": {},
     "output_type": "execute_result"
    }
   ],
   "source": [
    "df_image = pd.merge(df_image_0, df_image_1, how = \"inner\", on = ['image_id', 'split_id'])\n",
    "df_image.head(25)"
   ]
  },
  {
   "cell_type": "code",
   "execution_count": 10,
   "metadata": {},
   "outputs": [
    {
     "data": {
      "text/html": [
       "<div>\n",
       "<style scoped>\n",
       "    .dataframe tbody tr th:only-of-type {\n",
       "        vertical-align: middle;\n",
       "    }\n",
       "\n",
       "    .dataframe tbody tr th {\n",
       "        vertical-align: top;\n",
       "    }\n",
       "\n",
       "    .dataframe thead th {\n",
       "        text-align: right;\n",
       "    }\n",
       "</style>\n",
       "<table border=\"1\" class=\"dataframe\">\n",
       "  <thead>\n",
       "    <tr style=\"text-align: right;\">\n",
       "      <th></th>\n",
       "      <th>image_id</th>\n",
       "      <th>shape_id</th>\n",
       "      <th>sign_id</th>\n",
       "      <th>x</th>\n",
       "      <th>y</th>\n",
       "      <th>height</th>\n",
       "      <th>width</th>\n",
       "    </tr>\n",
       "  </thead>\n",
       "  <tbody>\n",
       "    <tr>\n",
       "      <th>0</th>\n",
       "      <td>00001</td>\n",
       "      <td>1</td>\n",
       "      <td>18</td>\n",
       "      <td>413</td>\n",
       "      <td>261</td>\n",
       "      <td>18</td>\n",
       "      <td>15</td>\n",
       "    </tr>\n",
       "    <tr>\n",
       "      <th>1</th>\n",
       "      <td>00002</td>\n",
       "      <td>1</td>\n",
       "      <td>18</td>\n",
       "      <td>452</td>\n",
       "      <td>248</td>\n",
       "      <td>35</td>\n",
       "      <td>32</td>\n",
       "    </tr>\n",
       "    <tr>\n",
       "      <th>2</th>\n",
       "      <td>00003</td>\n",
       "      <td>1</td>\n",
       "      <td>18</td>\n",
       "      <td>488</td>\n",
       "      <td>231</td>\n",
       "      <td>46</td>\n",
       "      <td>41</td>\n",
       "    </tr>\n",
       "    <tr>\n",
       "      <th>3</th>\n",
       "      <td>00004</td>\n",
       "      <td>1</td>\n",
       "      <td>18</td>\n",
       "      <td>635</td>\n",
       "      <td>170</td>\n",
       "      <td>86</td>\n",
       "      <td>87</td>\n",
       "    </tr>\n",
       "    <tr>\n",
       "      <th>4</th>\n",
       "      <td>00005</td>\n",
       "      <td>1</td>\n",
       "      <td>9</td>\n",
       "      <td>421</td>\n",
       "      <td>251</td>\n",
       "      <td>23</td>\n",
       "      <td>21</td>\n",
       "    </tr>\n",
       "    <tr>\n",
       "      <th>5</th>\n",
       "      <td>00005</td>\n",
       "      <td>4</td>\n",
       "      <td>30</td>\n",
       "      <td>426</td>\n",
       "      <td>273</td>\n",
       "      <td>16</td>\n",
       "      <td>18</td>\n",
       "    </tr>\n",
       "  </tbody>\n",
       "</table>\n",
       "</div>"
      ],
      "text/plain": [
       "  image_id shape_id sign_id    x    y height width\n",
       "0    00001        1      18  413  261     18    15\n",
       "1    00002        1      18  452  248     35    32\n",
       "2    00003        1      18  488  231     46    41\n",
       "3    00004        1      18  635  170     86    87\n",
       "4    00005        1       9  421  251     23    21\n",
       "5    00005        4      30  426  273     16    18"
      ]
     },
     "execution_count": 10,
     "metadata": {},
     "output_type": "execute_result"
    }
   ],
   "source": [
    "df_object = pd.merge(df_object_0, df_object_1, how = \"inner\", on = ['image_id', 'x', 'y', 'height', 'width'])\n",
    "order = [\"image_id\", \"shape_id\", \"sign_id\", \"x\", \"y\", \"height\", \"width\"]\n",
    "df_object = df_object[order]\n",
    "df_object.head(6)"
   ]
  },
  {
   "cell_type": "code",
   "execution_count": null,
   "metadata": {},
   "outputs": [],
   "source": [
    "filenames = []\n",
    "for filename in os.listdir(\"images\"):\n",
    "    filenames.append(filename)\n",
    "filenames.sort()\n",
    "filenames"
   ]
  },
  {
   "cell_type": "code",
   "execution_count": 12,
   "metadata": {},
   "outputs": [],
   "source": [
    "length = len(filenames)\n",
    "train_objects = []\n",
    "train_shape = []\n",
    "train_sign = []\n",
    "test_objects = []\n",
    "test_shape = []\n",
    "test_sign = []\n",
    "count = 0\n",
    "# m = 0\n",
    "# ob = 0\n",
    "# im = 0\n",
    "for i in range(length):\n",
    "    s = \"images/\" + filenames[i]\n",
    "    img = Image.open(s, \"r\")#.convert('L')\n",
    "    img_name = df_image[\"image_id\"][i]\n",
    "    if len(df_object[df_object[\"image_id\"] == img_name]) == 0:\n",
    "           continue\n",
    "    index = df_object[df_object[\"image_id\"] == img_name].index[0]\n",
    "#     index = df_object[df_object[\"image_id\"] == img_name].index[0]\n",
    "    number = df_image.iat[i,2].count(',') + 1    # count the number of objects contained in one image\n",
    "    if df_image.iat[i,1] == \"1\":      # split trainset and testset, \"1\" for training, \"0\" for testing\n",
    "        for j in range(number):\n",
    "            # crop image\n",
    "            a = int(df_object[\"x\"][index+j])\n",
    "            b = int(df_object[\"y\"][index+j])\n",
    "            c = int(df_object[\"height\"][index+j]) + a\n",
    "            d = int(df_object[\"width\"][index+j]) + b\n",
    "            CropImg = img.crop((a,b,c,d))\n",
    "            CropImg = CropImg.resize((32,32))\n",
    "            CropImg = np.array(CropImg)\n",
    "#             if max(CropImg.shape) > m:\n",
    "#                 m = max(CropImg.shape)\n",
    "#                 im = i\n",
    "#                 ob = count\n",
    "#             CropImg = CropImg.reshape(3072)\n",
    "            train_objects.append(CropImg)                   # add image into trainset\n",
    "            train_shape.append(df_object.iat[index+j,1])      # add its shape id\n",
    "            train_sign.append(df_object.iat[index+j,2])       # add its sign id\n",
    "            \n",
    "            \n",
    "    elif df_image.iat[i,1] == \"0\":      # process testset\n",
    "        for j in range(number):\n",
    "            # crop image\n",
    "            a = int(df_object[\"x\"][index+j])\n",
    "            b = int(df_object[\"y\"][index+j])\n",
    "            c = int(df_object[\"height\"][index+j]) + a\n",
    "            d = int(df_object[\"width\"][index+j]) + b\n",
    "            CropImg = img.crop((a,b,c,d))\n",
    "            CropImg = CropImg.resize((32,32))\n",
    "            CropImg = np.array(CropImg)\n",
    "#             CropImg = CropImg.reshape(3072)\n",
    "#             if max(CropImg.shape) > m:\n",
    "#                 m = max(CropImg.shape)\n",
    "#                 im = i\n",
    "#                 ob = count\n",
    "            test_objects.append(CropImg)                   # add image into testset\n",
    "            test_shape.append(df_object.iat[index+j,1])      # add its shape id\n",
    "            test_sign.append(df_object.iat[index+j,2])       # add its sign id\n",
    "            \n",
    "# transform to numpy array\n",
    "train_objects = np.array(train_objects)\n",
    "train_shape = np.array(train_shape)\n",
    "train_sign = np.array(train_sign)\n",
    "test_objects = np.array(test_objects)\n",
    "test_shape = np.array(test_shape)\n",
    "test_sign = np.array(test_sign)"
   ]
  },
  {
   "cell_type": "code",
   "execution_count": 15,
   "metadata": {},
   "outputs": [],
   "source": [
    "for i in range(train_objects.shape[0]):\n",
    "    temp_object = train_objects[i,:,:,:]\n",
    "    mean = np.mean(temp_object)\n",
    "    std = np.max([np.std(temp_object), 1.0 / np.sqrt(train_objects.shape[1] * train_objects.shape[2] * train_objects.shape[3])])\n",
    "    train_objects[i,:,:,:] = (temp_object - mean) / std"
   ]
  },
  {
   "cell_type": "code",
   "execution_count": 16,
   "metadata": {},
   "outputs": [],
   "source": [
    "for i in range(test_objects.shape[0]):\n",
    "    temp_object = test_objects[i,:,:,:]\n",
    "    mean = np.mean(temp_object)\n",
    "    std = np.max([np.std(temp_object), 1.0 / np.sqrt(test_objects.shape[1] * test_objects.shape[2] * train_objects.shape[3])])\n",
    "    test_objects[i,:,:,:] = (temp_object - mean) / std"
   ]
  },
  {
   "cell_type": "code",
   "execution_count": 19,
   "metadata": {},
   "outputs": [
    {
     "data": {
      "text/plain": [
       "(1904, 32, 32, 3)"
      ]
     },
     "execution_count": 19,
     "metadata": {},
     "output_type": "execute_result"
    }
   ],
   "source": [
    "train_objects=np.array(train_objects)\n",
    "train_objects.shape"
   ]
  },
  {
   "cell_type": "code",
   "execution_count": 20,
   "metadata": {},
   "outputs": [
    {
     "data": {
      "text/plain": [
       "array([[117, 116, 115, ..., 159, 158, 160]], dtype=uint8)"
      ]
     },
     "execution_count": 20,
     "metadata": {},
     "output_type": "execute_result"
    }
   ],
   "source": [
    "img = Image.open('images/00001.png').convert('L')\n",
    "np.array(img).reshape(1,576*720)"
   ]
  },
  {
   "cell_type": "code",
   "execution_count": 23,
   "metadata": {},
   "outputs": [],
   "source": [
    "#read & transfrom to grayscale images\n",
    "length = len(filenames)\n",
    "train_objects = []\n",
    "train_shape = []\n",
    "train_sign = []\n",
    "test_objects = []\n",
    "test_shape = []\n",
    "test_sign = []\n",
    "count = 0\n",
    "# m = 0\n",
    "# ob = 0\n",
    "# im = 0\n",
    "for i in range(length):\n",
    "    s = \"images/\" + filenames[i]\n",
    "    img = Image.open(s, \"r\").convert('L')\n",
    "    img_name = df_image[\"image_id\"][i]\n",
    "#     if len(df_object[df_object[\"image_id\"] == img_name]) == 0:\n",
    "#            continue\n",
    "#     index = df_object[df_object[\"image_id\"] == img_name].index[0]\n",
    "#     index = df_object[df_object[\"image_id\"] == img_name].index[0]\n",
    "    number = len(df_object[df_object[\"image_id\"] == img_name])\n",
    "    if number == 0:\n",
    "        continue;\n",
    "    index = df_object[df_object[\"image_id\"] == img_name].index[0]\n",
    "#     number = df_image.iat[i,2].count(',') + 1    # count the number of objects contained in one image\n",
    "    if df_image.iat[i,1] == \"1\":      # split trainset and testset, \"1\" for training, \"0\" for testing\n",
    "        for j in range(number):\n",
    "            # crop image\n",
    "            a = int(df_object[\"x\"][index+j])\n",
    "            b = int(df_object[\"y\"][index+j])\n",
    "            c = int(df_object[\"height\"][index+j]) + a\n",
    "            d = int(df_object[\"width\"][index+j]) + b\n",
    "            CropImg = img.crop((a,b,c,d))\n",
    "            CropImg = CropImg.resize((24,24))\n",
    "            CropImg = np.array(CropImg)\n",
    "            CropImg = CropImg.reshape(576)\n",
    "            train_objects.append(CropImg)                   # add image into trainset\n",
    "            train_shape.append(df_object.iat[index+j,1])      # add its shape id\n",
    "            train_sign.append(df_object.iat[index+j,2])       # add its sign id\n",
    "            \n",
    "            \n",
    "    elif df_image.iat[i,1] == \"0\":      # process testset\n",
    "        for j in range(number):\n",
    "            # crop image\n",
    "            a = int(df_object[\"x\"][index+j])\n",
    "            b = int(df_object[\"y\"][index+j])\n",
    "            c = int(df_object[\"height\"][index+j]) + a\n",
    "            d = int(df_object[\"width\"][index+j]) + b\n",
    "            CropImg = img.crop((a,b,c,d))\n",
    "            CropImg = CropImg.resize((24,24))\n",
    "            CropImg = np.array(CropImg)\n",
    "            CropImg = CropImg.reshape(576)\n",
    "            test_objects.append(CropImg)                   # add image into testset\n",
    "            test_shape.append(df_object.iat[index+j,1])      # add its shape id\n",
    "            test_sign.append(df_object.iat[index+j,2])       # add its sign id\n",
    "            \n",
    "# transform to numpy array\n",
    "train_objects = np.array(train_objects)\n",
    "train_shape = np.array(train_shape)\n",
    "train_sign = np.array(train_sign)\n",
    "test_objects = np.array(test_objects)\n",
    "test_shape = np.array(test_shape)\n",
    "test_sign = np.array(test_sign)\n"
   ]
  },
  {
   "cell_type": "code",
   "execution_count": 62,
   "metadata": {},
   "outputs": [
    {
     "data": {
      "text/plain": [
       "SVC(C=1, cache_size=200, class_weight=None, coef0=0.0,\n",
       "  decision_function_shape='ovr', degree=3, gamma='auto_deprecated',\n",
       "  kernel='linear', max_iter=-1, probability=False, random_state=None,\n",
       "  shrinking=True, tol=0.001, verbose=False)"
      ]
     },
     "execution_count": 62,
     "metadata": {},
     "output_type": "execute_result"
    }
   ],
   "source": [
    "#svc\n",
    "#shape\n",
    "#linear svm  model train\n",
    "clf = svm.SVC(C=1, kernel='linear', decision_function_shape='ovr')\n",
    "clf.fit(train_objects, train_shape)"
   ]
  },
  {
   "cell_type": "code",
   "execution_count": 63,
   "metadata": {},
   "outputs": [
    {
     "data": {
      "text/plain": [
       "1.0"
      ]
     },
     "execution_count": 63,
     "metadata": {},
     "output_type": "execute_result"
    }
   ],
   "source": [
    "#shape accuracy (train)\n",
    "clf.score(train_objects, train_shape)"
   ]
  },
  {
   "cell_type": "code",
   "execution_count": 64,
   "metadata": {},
   "outputs": [
    {
     "data": {
      "text/plain": [
       "0.8658008658008658"
      ]
     },
     "execution_count": 64,
     "metadata": {},
     "output_type": "execute_result"
    }
   ],
   "source": [
    "#shape accuracy (test)\n",
    "clf.score(test_objects, test_shape)"
   ]
  },
  {
   "cell_type": "code",
   "execution_count": 68,
   "metadata": {},
   "outputs": [
    {
     "name": "stdout",
     "output_type": "stream",
     "text": [
      "[10  6 10 10  6  7  6 10  7  1  1 10  6  1  4 10  1  1  7  3]\n",
      "[ 4  6 10 10  6  7  6 10  7  1  1 10  6  1  4 10  1  1  7  3]\n"
     ]
    },
    {
     "data": {
      "image/png": "[encoded data removed]",
      "text/plain": [
       "<Figure size 720x720 with 20 Axes>"
      ]
     },
     "metadata": {
      "needs_background": "light"
     },
     "output_type": "display_data"
    }
   ],
   "source": [
    "import random\n",
    "# global prediction\n",
    "predictedSVM=clf.predict(test_objects)\n",
    "sample_indexes = random.sample(range(len(test_objects)), 20)\n",
    "sample_images = [test_objects[i] for i in sample_indexes]\n",
    "sample_labels = [test_shape[i] for i in sample_indexes]\n",
    "sample_labels = np.array(sample_labels)\n",
    "sample_labels = sample_labels.astype(int)\n",
    "predicted_labels = [predictedSVM[i] for i in sample_indexes]\n",
    "predicted_labels = np.array(predicted_labels)\n",
    "predicted_labels = predicted_labels.astype(int)\n",
    "# Run the \"predicted_labels\" op.\n",
    "# sess.run(tf.global_variables_initializer())\n",
    "# predicted_test = sess.run(predicted, feed_dict={xs: sample_images})\n",
    "# a = tf.arg_max(predicted_test,1)\n",
    "print(sample_labels)\n",
    "print(predicted_labels)\n",
    "\n",
    "fig = plt.figure(figsize=(10, 10))\n",
    "for i in range(len(sample_images)):\n",
    "    truth = sample_labels[i]\n",
    "    prediction = predicted_labels[i]\n",
    "    plt.subplot(10, 2,1+i)\n",
    "    plt.axis('off')\n",
    "    c='green' if truth == prediction else 'red'\n",
    "    plt.text(40, 10, \"Truth:        {0}\\nPrediction: {1}\".format(truth, prediction), \n",
    "             fontsize=12, color=c)\n",
    "    plt.imshow(test_objects[sample_indexes[i]].reshape(24,24))"
   ]
  },
  {
   "cell_type": "code",
   "execution_count": 57,
   "metadata": {},
   "outputs": [
    {
     "data": {
      "text/plain": [
       "SVC(C=1, cache_size=200, class_weight=None, coef0=0.0,\n",
       "  decision_function_shape='ovr', degree=3, gamma='auto_deprecated',\n",
       "  kernel='linear', max_iter=-1, probability=False, random_state=None,\n",
       "  shrinking=True, tol=0.001, verbose=False)"
      ]
     },
     "execution_count": 57,
     "metadata": {},
     "output_type": "execute_result"
    }
   ],
   "source": [
    "#svm\n",
    "#sign\n",
    "#linear svm  model train\n",
    "clf = svm.SVC(C=1, kernel='linear', decision_function_shape='ovr')\n",
    "clf.fit(train_objects,train_sign)"
   ]
  },
  {
   "cell_type": "code",
   "execution_count": 58,
   "metadata": {},
   "outputs": [
    {
     "data": {
      "text/plain": [
       "1.0"
      ]
     },
     "execution_count": 58,
     "metadata": {},
     "output_type": "execute_result"
    }
   ],
   "source": [
    "#sign accuracy (train)\n",
    "clf.score(train_objects,train_sign)"
   ]
  },
  {
   "cell_type": "code",
   "execution_count": 59,
   "metadata": {},
   "outputs": [
    {
     "data": {
      "text/plain": [
       "0.6845238095238095"
      ]
     },
     "execution_count": 59,
     "metadata": {},
     "output_type": "execute_result"
    }
   ],
   "source": [
    "#sign accuracy (test)\n",
    "clf.score(test_objects,test_sign)"
   ]
  },
  {
   "cell_type": "code",
   "execution_count": 144,
   "metadata": {},
   "outputs": [
    {
     "data": {
      "text/plain": [
       "array(['44', '44', '85', ..., '31', '29', '31'], dtype='<U2')"
      ]
     },
     "execution_count": 144,
     "metadata": {},
     "output_type": "execute_result"
    }
   ],
   "source": [
    "clf.predict(test_objects)"
   ]
  },
  {
   "cell_type": "code",
   "execution_count": null,
   "metadata": {},
   "outputs": [],
   "source": [
    "import random\n",
    "# global prediction\n",
    "predictedSVM=clf.predict(test_objects)\n",
    "sample_indexes = random.sample(range(len(test_objects)), 20)\n",
    "sample_images = [test_objects[i] for i in sample_indexes]\n",
    "sample_labels = [test_sign[i] for i in sample_indexes]\n",
    "sample_labels = np.array(sample_labels)\n",
    "sample_labels = sample_labels.astype(int)\n",
    "predicted_labels = [predictedSVM[i] for i in sample_indexes]\n",
    "predicted_labels = np.array(predicted_labels)\n",
    "predicted_labels = predicted_labels.astype(int)\n",
    "# Run the \"predicted_labels\" op.\n",
    "# sess.run(tf.global_variables_initializer())\n",
    "# predicted_test = sess.run(predicted, feed_dict={xs: sample_images})\n",
    "# a = tf.arg_max(predicted_test,1)\n",
    "print(sample_labels)\n",
    "print(predicted_labels)\n",
    "\n",
    "fig = plt.figure(figsize=(10, 10))\n",
    "for i in range(len(sample_images)):\n",
    "    truth = sample_labels[i]\n",
    "    prediction = predicted_labels[i]\n",
    "    plt.subplot(10, 2,1+i)\n",
    "    plt.axis('off')\n",
    "    c='green' if truth == prediction else 'red'\n",
    "    plt.text(40, 10, \"Truth:        {0}\\nPrediction: {1}\".format(truth, prediction), \n",
    "             fontsize=12, color=c)\n",
    "    plt.imshow(test_objects[sample_indexes[i]].reshape(24,24))"
   ]
  },
  {
   "cell_type": "code",
   "execution_count": 21,
   "metadata": {},
   "outputs": [],
   "source": [
    "#read images\n",
    "length = len(filenames)\n",
    "train_objects = []\n",
    "train_shape = []\n",
    "train_sign = []\n",
    "test_objects = []\n",
    "test_shape = []\n",
    "test_sign = []\n",
    "count = 0\n",
    "# m = 0\n",
    "# ob = 0\n",
    "# im = 0\n",
    "for i in range(length):\n",
    "    s = \"images/\" + filenames[i]\n",
    "    img = Image.open(s, \"r\")#.convert('L')\n",
    "    img_name = df_image[\"image_id\"][i]\n",
    "#     if len(df_object[df_object[\"image_id\"] == img_name]) == 0:\n",
    "#            continue\n",
    "#     index = df_object[df_object[\"image_id\"] == img_name].index[0]\n",
    "#     index = df_object[df_object[\"image_id\"] == img_name].index[0]\n",
    "    number = len(df_object[df_object[\"image_id\"] == img_name])\n",
    "    if number == 0:\n",
    "        continue;\n",
    "    index = df_object[df_object[\"image_id\"] == img_name].index[0]\n",
    "#     number = df_image.iat[i,2].count(',') + 1    # count the number of objects contained in one image\n",
    "    if df_image.iat[i,1] == \"1\":      # split trainset and testset, \"1\" for training, \"0\" for testing\n",
    "        for j in range(number):\n",
    "            # crop image\n",
    "            a = int(df_object[\"x\"][index+j])\n",
    "            b = int(df_object[\"y\"][index+j])\n",
    "            c = int(df_object[\"height\"][index+j]) + a\n",
    "            d = int(df_object[\"width\"][index+j]) + b\n",
    "            CropImg = img.crop((a,b,c,d))\n",
    "            CropImg = CropImg.resize((24,24))\n",
    "            CropImg = np.array(CropImg)\n",
    "            CropImg = CropImg.reshape(1728)\n",
    "            train_objects.append(CropImg)                   # add image into trainset\n",
    "            train_shape.append(df_object.iat[index+j,1])      # add its shape id\n",
    "            train_sign.append(df_object.iat[index+j,2])       # add its sign id\n",
    "            \n",
    "            \n",
    "    elif df_image.iat[i,1] == \"0\":      # process testset\n",
    "        for j in range(number):\n",
    "            # crop image\n",
    "            a = int(df_object[\"x\"][index+j])\n",
    "            b = int(df_object[\"y\"][index+j])\n",
    "            c = int(df_object[\"height\"][index+j]) + a\n",
    "            d = int(df_object[\"width\"][index+j]) + b\n",
    "            CropImg = img.crop((a,b,c,d))\n",
    "            CropImg = CropImg.resize((24,24))\n",
    "            CropImg = np.array(CropImg)\n",
    "            CropImg = CropImg.reshape(1728)\n",
    "            test_objects.append(CropImg)                   # add image into testset\n",
    "            test_shape.append(df_object.iat[index+j,1])      # add its shape id\n",
    "            test_sign.append(df_object.iat[index+j,2])       # add its sign id\n",
    "            \n",
    "# transform to numpy array\n",
    "train_objects = np.array(train_objects)\n",
    "train_shape = np.array(train_shape)\n",
    "train_sign = np.array(train_sign)\n",
    "test_objects = np.array(test_objects)\n",
    "test_shape = np.array(test_shape)\n",
    "test_sign = np.array(test_sign)\n"
   ]
  },
  {
   "cell_type": "code",
   "execution_count": 22,
   "metadata": {},
   "outputs": [
    {
     "data": {
      "text/plain": [
       "SVC(C=0.8, cache_size=200, class_weight=None, coef0=0.0,\n",
       "  decision_function_shape='ovr', degree=3, gamma=20, kernel='rbf',\n",
       "  max_iter=-1, probability=False, random_state=None, shrinking=True,\n",
       "  tol=0.001, verbose=False)"
      ]
     },
     "execution_count": 22,
     "metadata": {},
     "output_type": "execute_result"
    }
   ],
   "source": [
    "#color shape\n",
    "\n",
    "clf_color_shape = svm.SVC(C=0.8, kernel='rbf', gamma=20, decision_function_shape='ovr')\n",
    "clf_color_shape.fit(train_objects, train_shape)"
   ]
  },
  {
   "cell_type": "code",
   "execution_count": 23,
   "metadata": {},
   "outputs": [
    {
     "data": {
      "text/plain": [
       "0.8904856293359762"
      ]
     },
     "execution_count": 23,
     "metadata": {},
     "output_type": "execute_result"
    }
   ],
   "source": [
    "#shape accuracy(train)\n",
    "clf_color_shape.score(train_objects, train_shape)"
   ]
  },
  {
   "cell_type": "code",
   "execution_count": 24,
   "metadata": {},
   "outputs": [
    {
     "data": {
      "text/plain": [
       "0.3436147186147186"
      ]
     },
     "execution_count": 24,
     "metadata": {},
     "output_type": "execute_result"
    }
   ],
   "source": [
    "#shape accuracy(test)\n",
    "clf_color_shape.score(test_objects, test_shape)"
   ]
  },
  {
   "cell_type": "code",
   "execution_count": 25,
   "metadata": {},
   "outputs": [
    {
     "data": {
      "text/plain": [
       "SVC(C=0.8, cache_size=200, class_weight=None, coef0=0.0,\n",
       "  decision_function_shape='ovr', degree=3, gamma=20, kernel='rbf',\n",
       "  max_iter=-1, probability=False, random_state=None, shrinking=True,\n",
       "  tol=0.001, verbose=False)"
      ]
     },
     "execution_count": 25,
     "metadata": {},
     "output_type": "execute_result"
    }
   ],
   "source": [
    "#color sign model train\n",
    "clf_color_sign = svm.SVC(C=0.8, kernel='rbf', gamma=20, decision_function_shape='ovr')\n",
    "clf_color_sign.fit(train_objects, train_sign)"
   ]
  },
  {
   "cell_type": "code",
   "execution_count": 26,
   "metadata": {},
   "outputs": [
    {
     "data": {
      "text/plain": [
       "0.6962338949454906"
      ]
     },
     "execution_count": 26,
     "metadata": {},
     "output_type": "execute_result"
    }
   ],
   "source": [
    "#sign accuracy(train)\n",
    "clf_color_sign.score(train_objects, train_sign)"
   ]
  },
  {
   "cell_type": "code",
   "execution_count": 27,
   "metadata": {},
   "outputs": [
    {
     "data": {
      "text/plain": [
       "0.07088744588744589"
      ]
     },
     "execution_count": 27,
     "metadata": {},
     "output_type": "execute_result"
    }
   ],
   "source": [
    "#sign accuracy(test)\n",
    "clf_color_sign.score(test_objects, test_sign)"
   ]
  },
  {
   "cell_type": "code",
   "execution_count": 105,
   "metadata": {},
   "outputs": [
    {
     "data": {
      "text/plain": [
       "KNeighborsClassifier(algorithm='auto', leaf_size=30, metric='minkowski',\n",
       "           metric_params=None, n_jobs=None, n_neighbors=5, p=2,\n",
       "           weights='uniform')"
      ]
     },
     "execution_count": 105,
     "metadata": {},
     "output_type": "execute_result"
    }
   ],
   "source": [
    "# knn\n",
    "#shape\n",
    "knn = neighbors.KNeighborsClassifier(n_neighbors=5)\n",
    "knn.fit(train_objects, train_shape)"
   ]
  },
  {
   "cell_type": "code",
   "execution_count": 109,
   "metadata": {},
   "outputs": [
    {
     "data": {
      "text/plain": [
       "0.7813852813852814"
      ]
     },
     "execution_count": 109,
     "metadata": {},
     "output_type": "execute_result"
    }
   ],
   "source": [
    "#shape accuracy(test)\n",
    "predict = knn.predict(test_objects)\n",
    "accuracy_score(predict,test_shape)"
   ]
  },
  {
   "cell_type": "code",
   "execution_count": 102,
   "metadata": {},
   "outputs": [
    {
     "data": {
      "text/plain": [
       "KNeighborsClassifier(algorithm='auto', leaf_size=30, metric='minkowski',\n",
       "           metric_params=None, n_jobs=None, n_neighbors=5, p=2,\n",
       "           weights='uniform')"
      ]
     },
     "execution_count": 102,
     "metadata": {},
     "output_type": "execute_result"
    }
   ],
   "source": [
    "#sign\n",
    "knn = neighbors.KNeighborsClassifier(n_neighbors=5)\n",
    "\n",
    "knn.fit(train_objects, train_sign)"
   ]
  },
  {
   "cell_type": "code",
   "execution_count": 104,
   "metadata": {},
   "outputs": [
    {
     "data": {
      "text/plain": [
       "0.42478354978354976"
      ]
     },
     "execution_count": 104,
     "metadata": {},
     "output_type": "execute_result"
    }
   ],
   "source": [
    "#sign accuracy(test)\n",
    "predict_knn_sign = knn.predict(test_objects)\n",
    "accuracy_score(predict_knn_sign,test_sign)"
   ]
  }
 ],
 "metadata": {
  "kernelspec": {
   "display_name": "Python 3",
   "language": "python",
   "name": "python3"
  },
  "language_info": {
   "codemirror_mode": {
    "name": "ipython",
    "version": 3
   },
   "file_extension": ".py",
   "mimetype": "text/x-python",
   "name": "python",
   "nbconvert_exporter": "python",
   "pygments_lexer": "ipython3",
   "version": "3.6.4"
  }
 },
 "nbformat": 4,
 "nbformat_minor": 2
}
